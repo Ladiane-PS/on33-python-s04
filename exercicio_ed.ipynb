{
 "cells": [
  {
   "cell_type": "code",
   "execution_count": 5,
   "metadata": {},
   "outputs": [
    {
     "name": "stdout",
     "output_type": "stream",
     "text": [
      "maça\n",
      "banana\n",
      "pão\n",
      "leite\n",
      "queijo\n"
     ]
    }
   ],
   "source": [
    "lista_de_compras = [ \"maça\", \"banana\", \"pão\", \"leite\", \"queijo\"]\n",
    "\n",
    "for i in lista_de_compras:\n",
    "    print(i)"
   ]
  },
  {
   "cell_type": "markdown",
   "metadata": {},
   "source": [
    "Exercício: Trabalhando com Tuplas\n",
    "Objetivo: Criar uma tupla com nomes de cores e imprimir cada cor."
   ]
  },
  {
   "cell_type": "code",
   "execution_count": 15,
   "metadata": {},
   "outputs": [
    {
     "name": "stdout",
     "output_type": "stream",
     "text": [
      "vermelho\n",
      "azul\n",
      "verde\n",
      "amarelo\n",
      "roxo\n",
      "laranja\n"
     ]
    }
   ],
   "source": [
    "cores = (\"vermelho\", \"azul\", \"verde\", \"amarelo\", \"roxo\", \"laranja\")\n",
    "\n",
    "for cor in cores:\n",
    "    print(cor)"
   ]
  },
  {
   "cell_type": "code",
   "execution_count": null,
   "metadata": {},
   "outputs": [],
   "source": [
    "# Exercício 2: Trabalhando com Dicionários\n",
    "# Definindo um dicionário com informações sobre filmes"
   ]
  },
  {
   "cell_type": "code",
   "execution_count": 26,
   "metadata": {},
   "outputs": [
    {
     "name": "stdout",
     "output_type": "stream",
     "text": [
      "Título: O Poderoso Chefão\n",
      "Ano: 1972\n",
      "Diretor: Francis Ford Coppola\n",
      "Gênero: Crime, Drama\n",
      "\n",
      "Título: Filme 2\n",
      "Ano: 2002\n",
      "Diretor: Diretor 2\n",
      "Gênero: Gênero 2\n",
      "\n",
      "Título: Filme 3\n",
      "Ano: 2003\n",
      "Diretor: Diretor 3\n",
      "Gênero: Gênero 3\n",
      "\n",
      "Título: Filme 4\n",
      "Ano: 2004\n",
      "Diretor: Diretor 4\n",
      "Gênero: Gênero 4\n",
      "\n"
     ]
    }
   ],
   "source": [
    "filmes = {\"o poderoso chefão\": \"aventura\", \"filme 2\": \"ação\", \"filmes3\": \"anime\", \"filmw4\": \"romance\"}\n",
    "\n",
    "for nome_do_filme, genero in filmes.items ():\n",
    "    print(f\"Nome do filme é {nome_do_filme} é o genero {genero}\")\n",
    "print()\n",
    "\n",
    "\n",
    "#da professora \n",
    "\n",
    "\n",
    "\n",
    "\n"
   ]
  }
 ],
 "metadata": {
  "kernelspec": {
   "display_name": "Python 3",
   "language": "python",
   "name": "python3"
  },
  "language_info": {
   "codemirror_mode": {
    "name": "ipython",
    "version": 3
   },
   "file_extension": ".py",
   "mimetype": "text/x-python",
   "name": "python",
   "nbconvert_exporter": "python",
   "pygments_lexer": "ipython3",
   "version": "3.12.3"
  }
 },
 "nbformat": 4,
 "nbformat_minor": 2
}
