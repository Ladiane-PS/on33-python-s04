{
 "cells": [
  {
   "cell_type": "code",
   "execution_count": 3,
   "metadata": {},
   "outputs": [
    {
     "name": "stdout",
     "output_type": "stream",
     "text": [
      "0\n",
      "1\n",
      "2\n",
      "3\n",
      "4\n",
      "5\n"
     ]
    }
   ],
   "source": [
    "for i in range (6):\n",
    "    print(i)\n",
    "\n",
    "ou \n",
    "    "
   ]
  },
  {
   "cell_type": "code",
   "execution_count": 4,
   "metadata": {},
   "outputs": [
    {
     "name": "stdout",
     "output_type": "stream",
     "text": [
      "4\n",
      "5\n"
     ]
    }
   ],
   "source": [
    "for i in range (4,6):\n",
    "    print(i)"
   ]
  },
  {
   "cell_type": "code",
   "execution_count": 9,
   "metadata": {},
   "outputs": [
    {
     "name": "stdout",
     "output_type": "stream",
     "text": [
      "Nome 1: Ana\n",
      "Nome 2: Carlos\n",
      "Nome 3: Maria\n",
      "Nome 4: Pedro\n"
     ]
    }
   ],
   "source": [
    "nomes = [\"Ana\", \"Carlos\", \"Maria\", \"Pedro\"]\n",
    "for indice in range(len(nomes)):\n",
    "    print(f\"Nome {indice + 1}: {nomes[indice]}\") "
   ]
  },
  {
   "cell_type": "markdown",
   "metadata": {},
   "source": [
    "A função len em Python é uma função embutida que retorna o número de elementos em um objeto. Ela pode ser usada para contar o número de itens em uma lista, o número de caracteres em uma string, o número de chaves em um dicionário, entre outros. A sintaxe básica para usar a função len é escrever “len(objeto)\n",
    "\n",
    "While: Imagine que você está determinada a estudar até concluir o curso no Reprograma. Nesse caso, você continua estudando até que seu objetivo de completar o curso seja alcançado. É como persistir em seus estudos até que você atinja seu objetivo final de concluir o programa.\n",
    "\n",
    "For: Agora, imagine que toda semana você tem desafios para fazer. Cada desafio é como uma tarefa específica que você sabe que precisa completar. Você pode usar um for para percorrer esses desafios semana a semana e completá-los um por um. É como seguir uma lista de tarefas conhecidas e fazer cada uma delas conforme elas surgem."
   ]
  },
  {
   "cell_type": "markdown",
   "metadata": {},
   "source": [
    "Exercício 1: Imprimir números pares de 1 a 10"
   ]
  },
  {
   "cell_type": "code",
   "execution_count": 12,
   "metadata": {},
   "outputs": [
    {
     "name": "stdout",
     "output_type": "stream",
     "text": [
      "2\n",
      "4\n",
      "6\n",
      "8\n",
      "10\n"
     ]
    }
   ],
   "source": [
    "for numero in range(1, 11):   # range(1, 11) gera números de 1 a 10\n",
    "    if numero % 2 == 0:   # Verifica se o número é par\n",
    "        print(numero)\n",
    "\n",
    "    # #ou\n",
    "    # # for indice in range(2, 11, 2):\n",
    "    # if indice != 10:\n",
    "    #     print(f'{indice}, ', end='')\n",
    "    # else:\n",
    "    #     print(indice)    "
   ]
  },
  {
   "cell_type": "markdown",
   "metadata": {},
   "source": [
    "Exercício 2: Calcule a soma dos primeiros números naturais"
   ]
  },
  {
   "cell_type": "code",
   "execution_count": 22,
   "metadata": {},
   "outputs": [
    {
     "name": "stdout",
     "output_type": "stream",
     "text": [
      "a soma dos primeiros 5 números naturais é: 15\n"
     ]
    }
   ],
   "source": [
    "# n = 5  # Número de naturais que deseja somar\n",
    "# soma = 0\n",
    "\n",
    "# for num in range(1, n+1):\n",
    "#     soma += num\n",
    "\n",
    "# print(f\"A soma dos primeiros {n} números naturais é: {soma}\")\n",
    "\n",
    "\n",
    "\n",
    "#da prof\n",
    "soma = 0\n",
    "\n",
    "for i in range(1,6):\n",
    "    soma += i \n",
    "print(f\"a soma dos primeiros 5 números naturais é: {soma}\")"
   ]
  }
 ],
 "metadata": {
  "kernelspec": {
   "display_name": "Python 3",
   "language": "python",
   "name": "python3"
  },
  "language_info": {
   "codemirror_mode": {
    "name": "ipython",
    "version": 3
   },
   "file_extension": ".py",
   "mimetype": "text/x-python",
   "name": "python",
   "nbconvert_exporter": "python",
   "pygments_lexer": "ipython3",
   "version": "3.12.3"
  }
 },
 "nbformat": 4,
 "nbformat_minor": 2
}
