{
 "cells": [
  {
   "cell_type": "code",
   "execution_count": 6,
   "metadata": {},
   "outputs": [
    {
     "name": "stdout",
     "output_type": "stream",
     "text": [
      "Eu tenho 0 balas\n",
      "Eu tenho 1 balas\n",
      "Eu tenho 2 balas\n",
      "Eu tenho 3 balas\n",
      "Eu tenho 4 balas\n"
     ]
    }
   ],
   "source": [
    "balas = 0 \n",
    "\n",
    "while balas < 5:\n",
    "    print(\"Eu tenho\", balas, \"balas\")\n",
    "    balas = balas + 1\n"
   ]
  },
  {
   "cell_type": "code",
   "execution_count": 8,
   "metadata": {},
   "outputs": [
    {
     "name": "stdout",
     "output_type": "stream",
     "text": [
      "Ainda não está cheio, tenho 0 litros de água no balde \n",
      "Ainda não está cheio, tenho 1 litros de água no balde \n",
      "Ainda não está cheio, tenho 2 litros de água no balde \n",
      "Ainda não está cheio, tenho 3 litros de água no balde \n",
      "Ainda não está cheio, tenho 4 litros de água no balde \n",
      "O balde está cheio!\n"
     ]
    }
   ],
   "source": [
    "agua_no_balde = 0\n",
    "balde_chieo = 5\n",
    "\n",
    "while agua_no_balde < balde_chieo:\n",
    "    print(\"Ainda não está cheio, tenho\", agua_no_balde, \"litros de água no balde \")\n",
    "    agua_no_balde += 1\n",
    "print (\"O balde está cheio!\")    "
   ]
  },
  {
   "cell_type": "markdown",
   "metadata": {},
   "source": [
    "Exercício 1: Contagem Regressiva simples \n",
    "Este exerecício pede para criar um contador regressivo de 5 até 1."
   ]
  },
  {
   "cell_type": "code",
   "execution_count": 15,
   "metadata": {},
   "outputs": [
    {
     "name": "stdout",
     "output_type": "stream",
     "text": [
      "5\n",
      "4\n",
      "3\n",
      "2\n",
      "1\n",
      "Foi\n"
     ]
    }
   ],
   "source": [
    "# contagem = 5\n",
    "# contagem_max = 5\n",
    "\n",
    "# while contagem > 0:\n",
    "#     print(\"Ainda não chegou ao zero, tenho\", contagem, \"números restantes\")\n",
    "#     contagem -= 1\n",
    "\n",
    "# print(\"Contagem completa!\")\n",
    "\n",
    "\n",
    "# ou código professora\n",
    "contador = 5\n",
    "\n",
    "while contador > 0:\n",
    "    print(contador)\n",
    "    contador -= 1\n",
    "    #contador = contador - 1\n",
    "print(\"Foi\")"
   ]
  },
  {
   "cell_type": "markdown",
   "metadata": {},
   "source": [
    "Exercício 2: Tabuada de Multiplicação\n",
    "Neste exercício, o programa calcula e exibe a tabuada de multiplicação de um número escolhido pelo usuário."
   ]
  },
  {
   "cell_type": "code",
   "execution_count": 11,
   "metadata": {},
   "outputs": [
    {
     "name": "stdout",
     "output_type": "stream",
     "text": [
      "7 x 10 = 70\n",
      "7 x 9 = 63\n",
      "7 x 8 = 56\n",
      "7 x 7 = 49\n",
      "7 x 6 = 42\n",
      "7 x 5 = 35\n",
      "7 x 4 = 28\n",
      "7 x 3 = 21\n",
      "7 x 2 = 14\n",
      "7 x 1 = 7\n",
      "Tabuada completa!\n"
     ]
    }
   ],
   "source": [
    "numero = int(input(\"Digite um número de 10 a 1: \"))\n",
    "\n",
    "contador = 10 # começar o contador em 10\n",
    "\n",
    "while contador >= 1:  # Enquanto o contador for maior ou igual a 1\n",
    "    tabuada = numero * contador\n",
    "    print(f\"{numero} x {contador} = {tabuada}\")\n",
    "    contador -= 1   # decrementar o contador\n",
    "\n",
    "print(\"Tabuada completa!\")\n",
    "\n",
    "\n",
    "\n",
    "#código da professora \n",
    "\n",
    "# numero = int(input(\"Digite um número\"))\n",
    "# contador = 0\n",
    "\n",
    "# while contador <= 10:\n",
    "#     resultado = numero * contador\n",
    "#     print(f\" {numero} x {contador} = {resultado}\")\n",
    "#     contador += 1\n",
    "# print(\"final\")    "
   ]
  }
 ],
 "metadata": {
  "kernelspec": {
   "display_name": "Python 3",
   "language": "python",
   "name": "python3"
  },
  "language_info": {
   "codemirror_mode": {
    "name": "ipython",
    "version": 3
   },
   "file_extension": ".py",
   "mimetype": "text/x-python",
   "name": "python",
   "nbconvert_exporter": "python",
   "pygments_lexer": "ipython3",
   "version": "3.12.3"
  }
 },
 "nbformat": 4,
 "nbformat_minor": 2
}
